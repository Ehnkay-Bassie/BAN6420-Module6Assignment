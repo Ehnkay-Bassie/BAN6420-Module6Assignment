{
 "cells": [
  {
   "cell_type": "code",
   "execution_count": null,
   "id": "c7a66b4e",
   "metadata": {},
   "outputs": [],
   "source": [
    "# Import necessary libraries\n",
    "\n",
    "import numpy as np  # This is a library to help with math and our arrays\n",
    "import matplotlib.pyplot as plt  # This is a library to help draw pictures and graphs.\n",
    "from tensorflow.keras.datasets import fashion_mnist  # This gets the Fashion MNIST pictures.\n",
    "from tensorflow.keras.models import Sequential  # This helps us create a list of steps for our model.\n",
    "from tensorflow.keras.layers import Conv2D, MaxPooling2D, Flatten, Dense  # These are the building blocks for our model."
   ]
  },
  {
   "cell_type": "code",
   "execution_count": null,
   "id": "45935a7c",
   "metadata": {},
   "outputs": [],
   "source": [
    "# Load the Fashion MNIST dataset\n",
    "(train_images, train_labels), (test_images, test_labels) = fashion_mnist.load_data()\n",
    "\n",
    "# This line gets our pictures (images) and their labels (what the pictures are of).\n",
    "# train_images and train_labels are for learning.\n",
    "# test_images and test_labels are for testing.\n"
   ]
  },
  {
   "cell_type": "code",
   "execution_count": null,
   "id": "bf8fbe36",
   "metadata": {},
   "outputs": [],
   "source": [
    "# Preprocess the data\n",
    "train_images = train_images.reshape((60000, 28, 28, 1)).astype('float32') / 255\n",
    "test_images = test_images.reshape((10000, 28, 28, 1)).astype('float32') / 255\n",
    "\n",
    "# We reshape our pictures to make them ready for our model and \n",
    "# 60,000 and 10,000 indicates the number of images\n",
    "# 28, 28 indicates the image pixel of 28 width and 28 height\n",
    "# 1 indictates that the image is grayscale\n",
    "# / 255 normalizes the values to the range of [0,1] for easier processing\n"
   ]
  },
  {
   "cell_type": "code",
   "execution_count": null,
   "id": "f56acd3a",
   "metadata": {},
   "outputs": [],
   "source": [
    "# Preview one of the images\n",
    "plt.imshow(train_images[0].reshape(28, 28), cmap=plt.cm.binary)\n",
    "plt.title(f\"Label: {train_labels[0]}\")\n",
    "plt.show()"
   ]
  },
  {
   "cell_type": "code",
   "execution_count": null,
   "id": "4bdacd8c",
   "metadata": {},
   "outputs": [],
   "source": [
    "# Define the CNN model\n",
    "model = Sequential()  # Start a new model.\n",
    "\n",
    "# Layer 1: Convolutional layer\n",
    "model.add(Conv2D(32, (3, 3), activation='relu', input_shape=(28, 28, 1)))\n",
    "# This is our first layer. It looks at small parts of the image (like a magnifying glass) to find features.\n",
    "# Conv2D means 2D convolutional layer, 32 filters of size 3x3, activation is 'relu', and input shape is 28x28 pixels with 1 color channel.\n",
    "\n",
    "# Layer 2: MaxPooling layer\n",
    "model.add(MaxPooling2D((2, 2)))\n",
    "# This layer shrinks the image to make it smaller, like shrinking a picture to fit it into a smaller frame.\n",
    "\n",
    "# Layer 3: Convolutional layer\n",
    "model.add(Conv2D(64, (3, 3), activation='relu'))\n",
    "# Another layer to look at more details in the image with 64 filters of size 3x3.\n",
    "\n",
    "# Layer 4: MaxPooling layer\n",
    "model.add(MaxPooling2D((2, 2)))\n",
    "# Another layer to shrink the image again.\n",
    "\n",
    "# Layer 5: Convolutional layer\n",
    "model.add(Conv2D(64, (3, 3), activation='relu'))\n",
    "# One more layer to look even closer at the image details with 64 filters of size 3x3.\n",
    "\n",
    "# Layer 6: Flatten layer\n",
    "model.add(Flatten())\n",
    "# This layer flattens the image into a single line, like taking a drawing and making it into a list of numbers.\n",
    "\n",
    "# Dense layers for classification\n",
    "model.add(Dense(64, activation='relu'))\n",
    "# A layer to learn patterns with 64 units and 'relu' activation.\n",
    "\n",
    "model.add(Dense(10, activation='softmax'))\n",
    "# The final layer to decide which of the 10 categories (types of clothing) the picture belongs to, using 'softmax' to choose the best one.\n",
    "\n"
   ]
  },
  {
   "cell_type": "code",
   "execution_count": null,
   "id": "88b6d99f",
   "metadata": {},
   "outputs": [],
   "source": [
    "# Compile the model\n",
    "model.compile(optimizer='adam', loss='sparse_categorical_crossentropy', metrics=['accuracy'])\n",
    "\n",
    "# We tell the model how to learn (optimizer='adam'), super smart optimizer that adjusts\n",
    "# the training based on performance\n",
    "# how to measure mistakes (loss='sparse_categorical_crossentropy'), \n",
    "# like a card that track its mistakes  and how bad it is performing (accuracy).\n"
   ]
  },
  {
   "cell_type": "code",
   "execution_count": null,
   "id": "e2d97677",
   "metadata": {},
   "outputs": [],
   "source": [
    "# Train the model\n",
    "model.fit(train_images, train_labels, epochs=5, batch_size=64)\n",
    "\n",
    "# We teach the model using our training images and labels for 5 rounds (epochs), learning from 64 pictures at a time (batch_size=64).\n"
   ]
  },
  {
   "cell_type": "code",
   "execution_count": null,
   "id": "415254b2",
   "metadata": {},
   "outputs": [],
   "source": [
    "# Evaluate the model\n",
    "test_loss, test_acc = model.evaluate(test_images, test_labels)\n",
    "print(f\"Test accuracy: {test_acc}\")\n",
    "# We test our model to see how well it learned using the test images and labels, and then print the accuracy.\n",
    "\n"
   ]
  },
  {
   "cell_type": "code",
   "execution_count": null,
   "id": "85614890",
   "metadata": {},
   "outputs": [],
   "source": [
    "# Make predictions for two images\n",
    "predictions = model.predict(test_images[:2])\n",
    "print(\"Predictions for first two images:\", predictions)\n",
    "# We ask the model to guess what the first two test images are and print the predictions.\n",
    "\n"
   ]
  },
  {
   "cell_type": "code",
   "execution_count": null,
   "id": "2ff1591b",
   "metadata": {},
   "outputs": [],
   "source": [
    "# Visualize the predictions\n",
    "for i in range(2):\n",
    "    plt.imshow(test_images[i].reshape(28, 28), cmap=plt.cm.binary)\n",
    "    plt.title(f\"Predicted label: {np.argmax(predictions[i])}\")\n",
    "    plt.show()\n",
    "# We draw the first two test images and show what the model guessed they are."
   ]
  },
  {
   "cell_type": "code",
   "execution_count": null,
   "id": "06fc5407",
   "metadata": {},
   "outputs": [],
   "source": []
  }
 ],
 "metadata": {
  "kernelspec": {
   "display_name": "Python 3 (ipykernel)",
   "language": "python",
   "name": "python3"
  },
  "language_info": {
   "codemirror_mode": {
    "name": "ipython",
    "version": 3
   },
   "file_extension": ".py",
   "mimetype": "text/x-python",
   "name": "python",
   "nbconvert_exporter": "python",
   "pygments_lexer": "ipython3",
   "version": "3.10.9"
  }
 },
 "nbformat": 4,
 "nbformat_minor": 5
}
